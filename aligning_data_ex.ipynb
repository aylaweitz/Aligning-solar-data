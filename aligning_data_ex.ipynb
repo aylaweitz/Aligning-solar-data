{
 "cells": [
  {
   "cell_type": "markdown",
   "id": "d44a6ada",
   "metadata": {},
   "source": [
    "# Aligning data — example notebook"
   ]
  },
  {
   "cell_type": "code",
   "execution_count": null,
   "id": "1e159a48",
   "metadata": {},
   "outputs": [],
   "source": [
    "from imports import *\n",
    "from load_data_functions import *"
   ]
  },
  {
   "cell_type": "markdown",
   "id": "0c2f3d1f",
   "metadata": {},
   "source": [
    "---\n",
    "## Reading in IRIS and AIA data as SunPy maps"
   ]
  },
  {
   "cell_type": "code",
   "execution_count": null,
   "id": "f23c3a58",
   "metadata": {},
   "outputs": [],
   "source": [
    "# Reading in AIA 171 data -- USING DATA DOWNLOADED FROM JSOC\n",
    "folder = 'ex_data/JSOC_20221206_1621' # path to folder with AIA data\n",
    "aia171_maps = get_aia_data(folder)"
   ]
  },
  {
   "cell_type": "code",
   "execution_count": null,
   "id": "8abddb63",
   "metadata": {},
   "outputs": [],
   "source": [
    "# Reading in IRIS 1400 data -- USING DATA DOWNLOADED FROM IRIS WEBSITE\n",
    "filename = 'ex_data/iris_l2_20220305_150930_3600607418_SJI_1400_t000.fits' # path to fits with IRIS data\n",
    "iris1400_maps = get_iris_data(filename)"
   ]
  },
  {
   "cell_type": "markdown",
   "id": "65792cfa",
   "metadata": {},
   "source": [
    "---\n",
    "## Cut observations so they cover the same time"
   ]
  },
  {
   "cell_type": "code",
   "execution_count": null,
   "id": "18ff66b2",
   "metadata": {},
   "outputs": [],
   "source": [
    "# get overlap times between AIA and IRIS observations\n",
    "start_time, end_time = obs_overlap_times(aia171_maps, iris1400_maps)\n",
    "print(start_time, end_time)"
   ]
  },
  {
   "cell_type": "code",
   "execution_count": null,
   "id": "5bf84423",
   "metadata": {},
   "outputs": [],
   "source": [
    "aia171_maps_cut = np.array(cut_obs(aia171_maps, start_time, end_time))\n",
    "iris1400_maps_cut = np.array(cut_obs(iris1400_maps, start_time, end_time))"
   ]
  },
  {
   "cell_type": "markdown",
   "id": "175d7a1d",
   "metadata": {},
   "source": [
    "---\n",
    "## Matching observations \n",
    "\n",
    "AIA and IRIS satellites observe at difference cadences. To account for this, \"match_obs\" matches each image of the AIA observation with an image from the IRIS observation that is the closest in time.\n",
    "\n",
    "This makes both sets of observations contain the same number of images.\n",
    "\n",
    "(If these two instruments were at different distances from Earth, \"match_obs\" would account for that and match images with respective to Earth time.)"
   ]
  },
  {
   "cell_type": "code",
   "execution_count": null,
   "id": "069d7997",
   "metadata": {},
   "outputs": [],
   "source": [
    "# MATCHING OBSERVATIONS TO EUI -- MAKE ALL SAME LENGTH\n",
    "aia171_maps_cut, sort_i = sort_data(aia171_maps_cut)\n",
    "\n",
    "times_to_match = get_times(aia171_maps_cut)\n",
    "times_to_match = get_earth_times(aia171_maps_cut) # get earth times\n",
    "\n",
    "iris1400_matched = match_obs(iris1400_maps_cut, times_to_match)\n",
    "aia171_matched = match_obs(aia171_maps_cut, times_to_match)"
   ]
  },
  {
   "cell_type": "markdown",
   "id": "e11bbe48",
   "metadata": {},
   "source": [
    "---\n",
    "\n",
    "## Correct for solar rotation"
   ]
  },
  {
   "cell_type": "code",
   "execution_count": null,
   "id": "01bae7a2",
   "metadata": {},
   "outputs": [],
   "source": [
    "# already corrected for in IRIS -- rotation already corrected for in data downloaded from IRIS website\n",
    "\n",
    "aia171_rot = correct_diff_rot_obs(aia171_matched, ref_i=0) # align to first observation in the array"
   ]
  },
  {
   "cell_type": "markdown",
   "id": "08349344",
   "metadata": {},
   "source": [
    "---"
   ]
  },
  {
   "cell_type": "markdown",
   "id": "5cb6b3f4",
   "metadata": {},
   "source": [
    "## Align all observations to the same reference frame\n",
    "aligning to the middle AIA observation"
   ]
  },
  {
   "cell_type": "code",
   "execution_count": null,
   "id": "f772b489",
   "metadata": {},
   "outputs": [],
   "source": [
    "# ALIGN ALL OBS TO THE SAME REFERENCE FRAME -- AIA MIDDLE OBS\n",
    "ref_obs = aia171_matched[len(aia171_matched)//2] # middle AIA observation"
   ]
  },
  {
   "cell_type": "code",
   "execution_count": null,
   "id": "83ac1adc",
   "metadata": {},
   "outputs": [],
   "source": [
    "aia171_aligned = align_obs_to_reference(aia171_rot, ref_obs)\n",
    "\n",
    "iris1400_aligned = align_obs_to_reference(iris1400_matched, ref_obs)"
   ]
  },
  {
   "cell_type": "markdown",
   "id": "db457408",
   "metadata": {},
   "source": [
    "---\n",
    "## Plotting IRIS 1400 and AIA 171"
   ]
  },
  {
   "cell_type": "code",
   "execution_count": null,
   "id": "95791d2d",
   "metadata": {},
   "outputs": [],
   "source": [
    "# PLOT 4 DATASETS\n",
    "i = 100\n",
    "\n",
    "map1 = iris1400_aligned[i] # iris\n",
    "map1_time = iris1400_matched[i].date # need to access the non-aligned metadata for the correct time\n",
    "map1_name = 'IRIS 1400'\n",
    "map1_cmap = map1.cmap\n",
    "map1_norm = plt.Normalize(-5, 15)\n",
    "\n",
    "map2 = aia171_aligned[i] # aia 171\n",
    "map2_time = aia171_matched[i].date\n",
    "map2_name = 'AIA 171'\n",
    "map2_cmap = map2.cmap\n",
    "map2_norm = plt.Normalize(0, 2700)\n",
    "\n",
    "\n",
    "####\n",
    "\n",
    "%matplotlib notebook\n",
    "plt.rcParams['figure.figsize'] = [10, 5]\n",
    "fig, axs = plt.subplots(1, 2)\n",
    "\n",
    "axs[0].axis('off'); axs[1].axis('off')\n",
    "\n",
    "# map1 -- IRIS 1400\n",
    "ax1 = fig.add_subplot(121, projection=map1.wcs)\n",
    "ax1.imshow(map1.data, cmap=map1_cmap, norm=map1_norm)\n",
    "x, y = map1.data.shape\n",
    "ax1.set_title(f'{map1_name}\\n{map1_time.datetime.time()}', fontsize=8)\n",
    "\n",
    "# map2 -- AIA 171\n",
    "ax2 = fig.add_subplot(122, projection=map1.wcs, sharex=ax1, sharey=ax1)\n",
    "ax2.imshow(map2.data, cmap=map2_cmap, norm=map2_norm)\n",
    "x, y = map2.data.shape\n",
    "ax2.set_title(f'{map2_name}\\n{map2_time.datetime.time()}', fontsize=8)\n",
    "\n",
    "plt.tight_layout(pad = 4)\n",
    "plt.show()"
   ]
  },
  {
   "cell_type": "code",
   "execution_count": null,
   "id": "9491694f",
   "metadata": {},
   "outputs": [],
   "source": []
  }
 ],
 "metadata": {
  "kernelspec": {
   "display_name": "Python 3 (ipykernel)",
   "language": "python",
   "name": "python3"
  },
  "language_info": {
   "codemirror_mode": {
    "name": "ipython",
    "version": 3
   },
   "file_extension": ".py",
   "mimetype": "text/x-python",
   "name": "python",
   "nbconvert_exporter": "python",
   "pygments_lexer": "ipython3",
   "version": "3.9.12"
  }
 },
 "nbformat": 4,
 "nbformat_minor": 5
}
