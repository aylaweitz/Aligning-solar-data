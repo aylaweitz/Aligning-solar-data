{
 "cells": [
  {
   "cell_type": "markdown",
   "id": "d44a6ada",
   "metadata": {},
   "source": [
    "# Aligning data — example notebook"
   ]
  },
  {
   "cell_type": "code",
   "execution_count": null,
   "id": "1e159a48",
   "metadata": {},
   "outputs": [],
   "source": [
    "from imports import * # contains necessary packages\n",
    "from load_data_functions import * # contains functions for reading in and aligning data"
   ]
  },
  {
   "cell_type": "markdown",
   "id": "0c2f3d1f",
   "metadata": {},
   "source": [
    "---\n",
    "## Reading in data as arrays of SunPy maps\n",
    "IRIS 1400, AIA 171 and 1600, and Solar Orbiter/EUI 174 data"
   ]
  },
  {
   "cell_type": "code",
   "execution_count": null,
   "id": "f23c3a58",
   "metadata": {},
   "outputs": [],
   "source": [
    "# Reading in AIA 171 data -- USING DATA DOWNLOADED FROM JSOC\n",
    "folder = 'ex_data/JSOC_20221206_1621' # path to folder with AIA data\n",
    "aia171_maps = get_aia_data(folder) # this reads in the data contained in \"folder\" and creates SunPy maps"
   ]
  },
  {
   "cell_type": "code",
   "execution_count": null,
   "id": "154d3f96",
   "metadata": {},
   "outputs": [],
   "source": [
    "# Reading in AIA 1600 data -- USING DATA DOWNLOADED FROM JSOC\n",
    "folder = 'ex_data/JSOC_20221210_179'\n",
    "aia1600_maps = get_aia_data(folder)"
   ]
  },
  {
   "cell_type": "code",
   "execution_count": null,
   "id": "8abddb63",
   "metadata": {},
   "outputs": [],
   "source": [
    "# Reading in IRIS 1400 data -- USING DATA DOWNLOADED FROM IRIS WEBSITE\n",
    "filename = 'ex_data/iris_l2_20220305_150930_3600607418_SJI_1400_t000.fits' # path to fits with IRIS data\n",
    "iris1400_maps = get_iris_data(filename) # this reads in the data contained in \"filename\" and creates SunPy maps"
   ]
  },
  {
   "cell_type": "code",
   "execution_count": null,
   "id": "f2ca3134",
   "metadata": {},
   "outputs": [],
   "source": [
    "# READING IN SOLAR ORBITER/EUI 174 DATA -- GETTING DATA USING SOAR\n",
    "# (this only works for me when I'm connected LMSAL internet)\n",
    "eui_maps = get_eui_data(start_date='2022-03-05T15:50:00', \n",
    "                        end_date='2022-03-06T00:00:01')"
   ]
  },
  {
   "cell_type": "markdown",
   "id": "65792cfa",
   "metadata": {},
   "source": [
    "---\n",
    "## Cut observations so they cover the same time"
   ]
  },
  {
   "cell_type": "code",
   "execution_count": null,
   "id": "18ff66b2",
   "metadata": {},
   "outputs": [],
   "source": [
    "# get overlap times between EUI and IRIS observations\n",
    "start_time, end_time = obs_overlap_times(eui_maps, iris1400_maps)\n",
    "print(start_time, end_time)"
   ]
  },
  {
   "cell_type": "code",
   "execution_count": null,
   "id": "5bf84423",
   "metadata": {},
   "outputs": [],
   "source": [
    "aia171_maps_cut = np.array(cut_obs(aia171_maps, start_time, end_time))\n",
    "aia1600_maps_cut = np.array(cut_obs(aia1600_maps, start_time, end_time))\n",
    "iris1400_maps_cut = np.array(cut_obs(iris1400_maps, start_time, end_time))\n",
    "\n",
    "# ensure EUI is sorted by time -- usually not if loaded in using SOAR\n",
    "eui_sorted, sorted_i = sort_data(eui_maps)\n",
    "eui_maps_cut = np.array(cut_obs(eui_sorted, start_time, end_time))"
   ]
  },
  {
   "cell_type": "markdown",
   "id": "175d7a1d",
   "metadata": {},
   "source": [
    "---\n",
    "## Matching observations \n",
    "\n",
    "AIA, IRIS, and EUI observe at difference cadences. To account for this, \"match_obs\" matches each image of the EUI observation with an image from the IRIS/AIA observation that is the closest in time.\n",
    "\n",
    "This makes both sets of observations contain the same number of images.\n",
    "\n",
    "(If these the instruments were at different distances from Earth, \"match_obs\" would account for that and match images with respective to Earth time.)"
   ]
  },
  {
   "cell_type": "code",
   "execution_count": null,
   "id": "069d7997",
   "metadata": {},
   "outputs": [],
   "source": [
    "# MATCHING OBSERVATIONS TO EUI -- MAKE ALL SAME LENGTH\n",
    "\n",
    "times_to_match = get_earth_times(eui_maps_cut) # get earth times\n",
    "\n",
    "eui_matched = eui_maps_cut\n",
    "iris1400_matched = match_obs(iris1400_maps_cut, times_to_match)\n",
    "aia171_matched = match_obs(aia171_maps_cut, times_to_match)\n",
    "aia1600_matched = match_obs(aia1600_maps_cut, times_to_match)"
   ]
  },
  {
   "cell_type": "markdown",
   "id": "e11bbe48",
   "metadata": {},
   "source": [
    "---\n",
    "\n",
    "## Correct for solar rotation\n",
    "The Sun rotates at a rate of roughly 2 km/s. We need to correct for this movement or else we'll see our images drift over time!"
   ]
  },
  {
   "cell_type": "code",
   "execution_count": null,
   "id": "01bae7a2",
   "metadata": {},
   "outputs": [],
   "source": [
    "# already corrected for in IRIS -- rotation already corrected for in data downloaded from IRIS website\n",
    "\n",
    "aia171_rot = correct_diff_rot_obs(aia171_matched, ref_i=0) # align to first observation in the array\n",
    "aia1600_rot = correct_diff_rot_obs(aia1600_matched, ref_i=0)\n",
    "eui_rot = correct_diff_rot_obs(eui_matched, ref_i=0)"
   ]
  },
  {
   "cell_type": "markdown",
   "id": "08349344",
   "metadata": {},
   "source": [
    "---"
   ]
  },
  {
   "cell_type": "markdown",
   "id": "5cb6b3f4",
   "metadata": {},
   "source": [
    "## Align all observations to the same reference frame\n",
    "AIA, IRIS, and EUI are instruments on different satellites so observe the Sun from different perspectives. To account for this, we'll align all images to the same reference image — the middle AIA observation."
   ]
  },
  {
   "cell_type": "code",
   "execution_count": null,
   "id": "f772b489",
   "metadata": {},
   "outputs": [],
   "source": [
    "# ALIGN ALL OBS TO THE SAME REFERENCE FRAME\n",
    "ref_obs = iris1400_matched[len(iris1400_matched)//2] # middle IRIS observation"
   ]
  },
  {
   "cell_type": "code",
   "execution_count": null,
   "id": "83ac1adc",
   "metadata": {},
   "outputs": [],
   "source": [
    "aia171_aligned = align_obs_to_reference(aia171_rot, ref_obs)"
   ]
  },
  {
   "cell_type": "code",
   "execution_count": null,
   "id": "589d3830",
   "metadata": {},
   "outputs": [],
   "source": [
    "aia1600_aligned = align_obs_to_reference(aia1600_rot, ref_obs)"
   ]
  },
  {
   "cell_type": "code",
   "execution_count": null,
   "id": "c88acaeb",
   "metadata": {
    "scrolled": true
   },
   "outputs": [],
   "source": [
    "iris1400_aligned = align_obs_to_reference(iris1400_matched, ref_obs)"
   ]
  },
  {
   "cell_type": "code",
   "execution_count": null,
   "id": "14f12d70",
   "metadata": {},
   "outputs": [],
   "source": [
    "eui_aligned = align_obs_to_reference(eui_rot, ref_obs)"
   ]
  },
  {
   "cell_type": "markdown",
   "id": "ad2bd395",
   "metadata": {},
   "source": [
    "---\n",
    "## Manual Alignment\n",
    "In theory, these IRIS, AIA, and EUI observations should be well aligned. Unfortunately, there are usually some manual alignment that that needs to be done too.\n",
    "\n",
    "### Aligning Solar Orbiter Obervation with Itself\n",
    "In some Solar Orbiter observations, the instrument pointing is not completely stable, so there is some jitter (like in this example observation). To correct for this, we'll cross correlate a subregion that is relatively stable over time. Different methods of cross correlating and different regions used for cross correlation may work better for different observations, so it's worth trying different things!"
   ]
  },
  {
   "cell_type": "code",
   "execution_count": null,
   "id": "623f6ff6",
   "metadata": {},
   "outputs": [],
   "source": [
    "# subregion used for cross correlation -- moss region\n",
    "xlims = [20, 200]\n",
    "ylims = [0, 140]\n",
    "\n",
    "eui_aligned_zoomed = sunpy.map.Map(list(create_obs_submaps(eui_aligned, xlims, ylims)),\n",
    "                                   sequence=True)"
   ]
  },
  {
   "cell_type": "code",
   "execution_count": null,
   "id": "c167370e",
   "metadata": {},
   "outputs": [],
   "source": [
    "eui_aligned_zoomed[0].plot()"
   ]
  },
  {
   "cell_type": "code",
   "execution_count": null,
   "id": "bcaf8112",
   "metadata": {},
   "outputs": [],
   "source": [
    "# cross correlating one EUI image with the next image\n",
    "# (image 1 cross correlated with image 2, image 2 with image 3, ...)\n",
    "\n",
    "whole_obs1 = eui_aligned_zoomed[:-1]\n",
    "whole_obs2 = eui_aligned_zoomed[1:]\n",
    "\n",
    "img1_list = [obs.data for obs in whole_obs1]\n",
    "img2_list = [obs.data for obs in whole_obs2]\n",
    "\n",
    "shifts = p_map(cross_correlate, img1_list, img2_list)"
   ]
  },
  {
   "cell_type": "code",
   "execution_count": null,
   "id": "374d8553",
   "metadata": {},
   "outputs": [],
   "source": [
    "# sum the shift values we calculate in the image before so all image are aligned with the first one\n",
    "# (the shift we apply for image 3 is the sum of the shifts we calculated for image 2 and image 3)\n",
    "\n",
    "y = []; x = []\n",
    "for i in shifts:\n",
    "    y.append(i[0]); x.append(i[1])\n",
    "\n",
    "# sum the shifts that come before\n",
    "x_summed = [np.sum(x[:i]) for i in range(len(x))]\n",
    "y_summed = [np.sum(y[:i]) for i in range(len(y))]\n",
    "\n",
    "shifts_summed = []\n",
    "for i in range(len(y_summed)):\n",
    "        shifts_summed.append(np.array([y_summed[i], x_summed[i]]))"
   ]
  },
  {
   "cell_type": "code",
   "execution_count": null,
   "id": "38c91d92",
   "metadata": {},
   "outputs": [],
   "source": [
    "eui_shifted = shift_obs(eui_aligned, shifts_summed) # applying the shifts to the EUI images"
   ]
  },
  {
   "cell_type": "markdown",
   "id": "c7ab027e",
   "metadata": {},
   "source": [
    "### Checking EUI and AIA Alignment\n",
    "Now, that EUI is aligned with itself, let's check the alignment with AIA. While we aligned these observations using the header information given in the fits files, sometimes it's not the most accurate. It's always worth double checking the alignment! For the most part, observations from the same instrument should be well aligned with eachother. \n",
    "\n",
    "Since EUI is aligned with itself and AIA is well aligned with itself, we will calculate and apply the mean shift value. Meaning the each EUI image will be shifted by the same amount."
   ]
  },
  {
   "cell_type": "code",
   "execution_count": null,
   "id": "2d463e41",
   "metadata": {},
   "outputs": [],
   "source": [
    "img1_list = [obs.data for obs in eui_shifted]\n",
    "img2_list = [obs.data for obs in aia171_aligned]\n",
    "\n",
    "shifts = p_map(cross_correlate, img2_list, img1_list) # performing cross correlation"
   ]
  },
  {
   "cell_type": "code",
   "execution_count": null,
   "id": "c5290e6e",
   "metadata": {},
   "outputs": [],
   "source": [
    "y = []; x = []\n",
    "for i in shifts:\n",
    "    y.append(i[0]); x.append(i[1])\n",
    "\n",
    "# 3 sigma cutting -- omitting outliers\n",
    "# x_std = np.nanmean(x)\n",
    "# x_mean = np.nanmean(x)\n",
    "# x_cut = np.array(x)[np.where(x < x_mean+3*x_std)]\n",
    "\n",
    "# y_std = np.nanstd(y)\n",
    "# y_mean = np.nanmean(y)\n",
    "# y_cut = np.array(y)[np.where(y < y_mean+3*y_std)]\n",
    "\n",
    "\n",
    "# plotting\n",
    "%matplotlib inline\n",
    "fig, ax = plt.subplots(1, 2, figsize=(12, 4))\n",
    "\n",
    "ax[0].set_title('x')\n",
    "ax[0].plot(x, c='k')\n",
    "\n",
    "ax[1].set_title('y')\n",
    "ax[1].plot(y, c='k')\n",
    "\n",
    "\n",
    "plt.show()\n",
    "\n",
    "print('X mean shift: ', np.nanmean(x))\n",
    "print('Y mean shift: ', np.nanmean(y))"
   ]
  },
  {
   "cell_type": "code",
   "execution_count": null,
   "id": "4b7777c9",
   "metadata": {},
   "outputs": [],
   "source": [
    "# create constant shift array of mean X and Y shift values\n",
    "shifts_cst = [np.array([np.nanmean(y), np.nanmean(x)]) for i in range(len(shifts))]"
   ]
  },
  {
   "cell_type": "code",
   "execution_count": null,
   "id": "ac69d97a",
   "metadata": {},
   "outputs": [],
   "source": [
    "eui_shifted_again = shift_obs(eui_shifted, shifts_cst) # shifting EUI to match AIA"
   ]
  },
  {
   "cell_type": "markdown",
   "id": "1168bb3d",
   "metadata": {},
   "source": [
    "### Checking AIA and IRIS alignment\n",
    "\n",
    "Now, we've shifted the EUI 174 images so they're aligned with AIA 171. This process should be repeated for ensuring AIA and IRIS data are well aligned. To do this, it's best to compare data from similar wavelengths because they'll share similar features. We'll use AIA's 1600 channel and IRIS's 1400 channel."
   ]
  },
  {
   "cell_type": "code",
   "execution_count": null,
   "id": "e8983d68",
   "metadata": {},
   "outputs": [],
   "source": [
    "img1_list = [obs.data for obs in iris1400_aligned]\n",
    "img2_list = [obs.data for obs in aia1600_aligned]\n",
    "\n",
    "shifts = p_map(cross_correlate_mask, img2_list, img1_list)"
   ]
  },
  {
   "cell_type": "code",
   "execution_count": null,
   "id": "392b4775",
   "metadata": {},
   "outputs": [],
   "source": [
    "y = []; x = []\n",
    "for i in shifts:\n",
    "    y.append(i[0]); x.append(i[1])\n",
    "\n",
    "# 3 sigma cutting\n",
    "x_std = np.nanstd(x)\n",
    "x_mean = np.nanmean(x)\n",
    "x_cut = np.array(x)[np.where((x < x_mean+3*x_std) & (x > x_mean-x_std))]\n",
    "\n",
    "y_std = np.nanstd(y)\n",
    "y_mean = np.nanmean(y)\n",
    "y_cut = np.array(y)[np.where((y < y_mean+3*x_std) & (y > y_mean-y_std))]\n",
    "\n",
    "\n",
    "# plotting\n",
    "%matplotlib inline\n",
    "fig, ax = plt.subplots(1, 2, figsize=(12, 4))\n",
    "\n",
    "ax[0].set_title('x')\n",
    "ax[0].plot(x_cut, c='k')\n",
    "\n",
    "ax[1].set_title('y')\n",
    "ax[1].plot(y_cut, c='k')\n",
    "\n",
    "plt.show()\n",
    "\n",
    "print('X mean shift: ', np.nanmean(x_cut))\n",
    "print('Y mean shift: ', np.nanmean(y_cut))"
   ]
  },
  {
   "cell_type": "code",
   "execution_count": null,
   "id": "5feea496",
   "metadata": {},
   "outputs": [],
   "source": [
    "# create constant shift array\n",
    "shifts_cst = [np.array([np.nanmean(y_cut), np.nanmean(x_cut)]) for i in range(len(shifts))]"
   ]
  },
  {
   "cell_type": "code",
   "execution_count": null,
   "id": "58e630c9",
   "metadata": {},
   "outputs": [],
   "source": [
    "iris1400_shifted = p_map(apply_shift, iris1400_aligned, shifts_cst) # shifting IRIS to match AIA"
   ]
  },
  {
   "cell_type": "markdown",
   "id": "924205e6",
   "metadata": {},
   "source": [
    "---\n",
    "## Saving the aligned data\n",
    "\n",
    "You can save data to files in a variety of formats, here we'll save out aligned and shifted data as pickle files. This format is well suited for python. "
   ]
  },
  {
   "cell_type": "code",
   "execution_count": null,
   "id": "cc0b5a6b",
   "metadata": {},
   "outputs": [],
   "source": [
    "save_as_pickle(aia171_aligned, 'aia171_data.pickle')\n",
    "save_as_pickle(aia1600_aligned, 'aia1600_data.pickle')\n",
    "save_as_pickle(iris1400_shifted, 'iris1400_data.pickle')\n",
    "save_as_pickle(eui_shifted_again, 'eui174_data.pickle')\n",
    "\n",
    "save_as_pickle(aia171_matched, 'aia171_matched.pickle') # contains time information\n",
    "save_as_pickle(aia1600_matched, 'aia1600_matched.pickle')\n",
    "save_as_pickle(iris1400_matched, 'iris1400_matched.pickle')\n",
    "save_as_pickle(eui_matched, 'eui174_matched.pickle')"
   ]
  },
  {
   "cell_type": "markdown",
   "id": "42a0a0ac",
   "metadata": {},
   "source": [
    "### Reading in pickle file"
   ]
  },
  {
   "cell_type": "code",
   "execution_count": null,
   "id": "67f60624",
   "metadata": {},
   "outputs": [],
   "source": [
    "aia171_data = read_from_pickle('aia171_data.pickle')\n",
    "aia1600_data = read_from_pickle('aia1600_data.pickle')\n",
    "iris1400_data = read_from_pickle('iris1400_data.pickle')\n",
    "eui_data = read_from_pickle('eui174_data.pickle')\n",
    "\n",
    "aia171_matched = read_from_pickle('aia171_matched.pickle')\n",
    "aia1600_matched = read_from_pickle('aia1600_matched.pickle')\n",
    "iris1400_matched = read_from_pickle('iris1400_matched.pickle')\n",
    "eui_matched = read_from_pickle('eui174_matched.pickle')"
   ]
  },
  {
   "cell_type": "markdown",
   "id": "db457408",
   "metadata": {},
   "source": [
    "---\n",
    "## Plotting the aligned data"
   ]
  },
  {
   "cell_type": "code",
   "execution_count": null,
   "id": "95791d2d",
   "metadata": {},
   "outputs": [],
   "source": [
    "# PLOT 4 DATASETS\n",
    "i = 100\n",
    "\n",
    "map1 = iris1400_data[i] # iris\n",
    "map1_time = iris1400_matched[i].date # need to access the non-aligned metadata for the correct time\n",
    "map1_name = 'IRIS 1400'\n",
    "map1_cmap = 'irissji1400'\n",
    "map1_norm = plt.Normalize(-5, 15)\n",
    "\n",
    "map2 = aia171_data[i] # aia 171\n",
    "map2_time = aia171_matched[i].date\n",
    "map2_name = 'AIA 171'\n",
    "map2_cmap = 'sdoaia171'\n",
    "map2_norm = plt.Normalize(0, 2700)\n",
    "\n",
    "map3 = aia1600_data[i] # aia 1600\n",
    "map3_time = aia1600_matched[i].date\n",
    "map3_name = 'AIA 1600'\n",
    "map3_cmap = 'sdoaia1600'\n",
    "map3_norm = plt.Normalize(0, 180)\n",
    "\n",
    "map4 = eui_data[i] # eui shifted to aia 171\n",
    "map4_time = eui_matched[i].date\n",
    "map4_name = 'EUI 174'\n",
    "map4_cmap = 'solar orbiterhri_euv174'\n",
    "map4_norm = plt.Normalize(10, 3000)\n",
    "\n",
    "\n",
    "####\n",
    "\n",
    "%matplotlib notebook\n",
    "plt.rcParams['figure.figsize'] = [10, 10]\n",
    "fig, axs = plt.subplots(2, 2)\n",
    "\n",
    "axs[0,0].axis('off'); axs[0,1].axis('off'); axs[1,0].axis('off'); axs[1,1].axis('off')\n",
    "\n",
    "# map 1 -- IRIS 1400\n",
    "ax1 = fig.add_subplot(221, projection=map1.wcs)\n",
    "ax1.imshow(map1.data, cmap=map1_cmap, norm=map1_norm)\n",
    "x, y = map1.data.shape\n",
    "ax1.set_title(f'{map1_name}\\n{map1_time.datetime.time()}', fontsize=8)\n",
    "\n",
    "# map 2 -- AIA 171\n",
    "ax2 = fig.add_subplot(222, projection=map1.wcs, sharex=ax1, sharey=ax1)\n",
    "ax2.imshow(map2.data, cmap=map2_cmap, norm=map2_norm)\n",
    "x, y = map2.data.shape\n",
    "ax2.set_title(f'{map2_name}\\n{map2_time.datetime.time()}', fontsize=8)\n",
    "\n",
    "# map 3 -- AIA 1600\n",
    "ax3 = fig.add_subplot(223, projection=map1.wcs, sharex=ax1, sharey=ax1)\n",
    "ax3.imshow(map3.data, cmap=map3_cmap, norm=map3_norm)\n",
    "x, y = map3.data.shape\n",
    "ax3.set_title(f'{map3_name}\\n{map3_time.datetime.time()}', fontsize=8)\n",
    "\n",
    "# map 4 -- EUI 174\n",
    "ax4 = fig.add_subplot(224, projection=map1.wcs, sharex=ax1, sharey=ax1)\n",
    "ax4.imshow(map4.data, cmap=map4_cmap, norm=map4_norm)\n",
    "x, y = map4.data.shape\n",
    "ax4.set_title(f'{map4_name}\\n{map4_time.datetime.time()}', fontsize=8)\n",
    "\n",
    "plt.tight_layout(pad = 4)\n",
    "plt.show()"
   ]
  },
  {
   "cell_type": "code",
   "execution_count": null,
   "id": "9491694f",
   "metadata": {},
   "outputs": [],
   "source": []
  }
 ],
 "metadata": {
  "kernelspec": {
   "display_name": "Python 3 (ipykernel)",
   "language": "python",
   "name": "python3"
  },
  "language_info": {
   "codemirror_mode": {
    "name": "ipython",
    "version": 3
   },
   "file_extension": ".py",
   "mimetype": "text/x-python",
   "name": "python",
   "nbconvert_exporter": "python",
   "pygments_lexer": "ipython3",
   "version": "3.9.12"
  }
 },
 "nbformat": 4,
 "nbformat_minor": 5
}
